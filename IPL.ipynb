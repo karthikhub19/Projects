{
  "nbformat": 4,
  "nbformat_minor": 0,
  "metadata": {
    "colab": {
      "name": "IPL",
      "provenance": [],
      "collapsed_sections": [],
      "authorship_tag": "ABX9TyOElnf7fG6P4ktXM298EHFg",
      "include_colab_link": true
    },
    "kernelspec": {
      "name": "python3",
      "display_name": "Python 3"
    },
    "language_info": {
      "name": "python"
    }
  },
  "cells": [
    {
      "cell_type": "markdown",
      "metadata": {
        "id": "view-in-github",
        "colab_type": "text"
      },
      "source": [
        "<a href=\"https://colab.research.google.com/github/karthikhub19/Projects/blob/main/IPL.ipynb\" target=\"_parent\"><img src=\"https://colab.research.google.com/assets/colab-badge.svg\" alt=\"Open In Colab\"/></a>"
      ]
    },
    {
      "cell_type": "code",
      "execution_count": null,
      "metadata": {
        "colab": {
          "base_uri": "https://localhost:8080/",
          "height": 641
        },
        "id": "c2O7FA3pzSJo",
        "outputId": "b5c4c981-6756-46de-ee4c-c385f7b2ace8"
      },
      "outputs": [
        {
          "output_type": "stream",
          "name": "stderr",
          "text": [
            "/usr/local/lib/python3.7/dist-packages/ipykernel_launcher.py:6: UserWarning: \n",
            "The dash_core_components package is deprecated. Please replace\n",
            "`import dash_core_components as dcc` with `from dash import dcc`\n",
            "  \n",
            "/usr/local/lib/python3.7/dist-packages/ipykernel_launcher.py:7: UserWarning: \n",
            "The dash_html_components package is deprecated. Please replace\n",
            "`import dash_html_components as html` with `from dash import html`\n",
            "  import sys\n"
          ]
        },
        {
          "output_type": "stream",
          "name": "stdout",
          "text": [
            "Collecting dash==2.0.0\n",
            "  Downloading dash-2.0.0-py3-none-any.whl (7.3 MB)\n",
            "\u001b[K     |████████████████████████████████| 7.3 MB 5.4 MB/s \n",
            "\u001b[?25hRequirement already satisfied: plotly>=5.0.0 in /usr/local/lib/python3.7/dist-packages (from dash==2.0.0) (5.5.0)\n",
            "Requirement already satisfied: flask-compress in /usr/local/lib/python3.7/dist-packages (from dash==2.0.0) (1.11)\n",
            "Requirement already satisfied: dash-core-components==2.0.0 in /usr/local/lib/python3.7/dist-packages (from dash==2.0.0) (2.0.0)\n",
            "Requirement already satisfied: Flask>=1.0.4 in /usr/local/lib/python3.7/dist-packages (from dash==2.0.0) (1.1.4)\n",
            "Requirement already satisfied: dash-html-components==2.0.0 in /usr/local/lib/python3.7/dist-packages (from dash==2.0.0) (2.0.0)\n",
            "Requirement already satisfied: dash-table==5.0.0 in /usr/local/lib/python3.7/dist-packages (from dash==2.0.0) (5.0.0)\n",
            "Requirement already satisfied: Werkzeug<2.0,>=0.15 in /usr/local/lib/python3.7/dist-packages (from Flask>=1.0.4->dash==2.0.0) (1.0.1)\n",
            "Requirement already satisfied: itsdangerous<2.0,>=0.24 in /usr/local/lib/python3.7/dist-packages (from Flask>=1.0.4->dash==2.0.0) (1.1.0)\n",
            "Requirement already satisfied: Jinja2<3.0,>=2.10.1 in /usr/local/lib/python3.7/dist-packages (from Flask>=1.0.4->dash==2.0.0) (2.11.3)\n",
            "Requirement already satisfied: click<8.0,>=5.1 in /usr/local/lib/python3.7/dist-packages (from Flask>=1.0.4->dash==2.0.0) (7.1.2)\n",
            "Requirement already satisfied: MarkupSafe>=0.23 in /usr/local/lib/python3.7/dist-packages (from Jinja2<3.0,>=2.10.1->Flask>=1.0.4->dash==2.0.0) (2.0.1)\n",
            "Requirement already satisfied: six in /usr/local/lib/python3.7/dist-packages (from plotly>=5.0.0->dash==2.0.0) (1.15.0)\n",
            "Requirement already satisfied: tenacity>=6.2.0 in /usr/local/lib/python3.7/dist-packages (from plotly>=5.0.0->dash==2.0.0) (8.0.1)\n",
            "Requirement already satisfied: brotli in /usr/local/lib/python3.7/dist-packages (from flask-compress->dash==2.0.0) (1.0.9)\n",
            "Installing collected packages: dash\n",
            "  Attempting uninstall: dash\n",
            "    Found existing installation: dash 2.2.0\n",
            "    Uninstalling dash-2.2.0:\n",
            "      Successfully uninstalled dash-2.2.0\n",
            "Successfully installed dash-2.0.0\n"
          ]
        },
        {
          "output_type": "display_data",
          "data": {
            "application/vnd.colab-display-data+json": {
              "pip_warning": {
                "packages": [
                  "dash"
                ]
              }
            }
          },
          "metadata": {}
        }
      ],
      "source": [
        "!pip install jupyter-dash -q\n",
        "import pandas as pd\n",
        "import dash\n",
        "import numpy as np\n",
        "from jupyter_dash import JupyterDash\n",
        "import dash_core_components as dcc\n",
        "import dash_html_components as html\n",
        "import plotly.express as px\n",
        "import plotly.graph_objs as go\n",
        "import matplotlib.pyplot as plt\n",
        "import seaborn as sns\n",
        "!pip install dash==2.0.0\n"
      ]
    },
    {
      "cell_type": "code",
      "source": [
        "from dash.dependencies import Output\n",
        "from dash.dependencies import Input\n",
        "import plotly.express as px\n",
        "\n",
        "\n",
        "app=JupyterDash(__name__)\n",
        "\n",
        "df=pd.read_csv('https://raw.githubusercontent.com/srinathkr07/IPL-Data-Analysis/master/matches.csv')\n",
        "\n",
        "mappings={'Delhi Daredevils':'Delhi Capitals',\n",
        "          'Delhi Capitals':'Delhi Capitals'}\n",
        "df['team1']=df['team1'].replace(mappings)          \n",
        "Teams = df['team1'].unique()\n",
        "\n",
        "\n",
        "\n",
        "w=df['winner'].value_counts()\n",
        "fig=px.bar(w,title='Best Team')\n",
        "\n",
        "p=df['player_of_match'].value_counts()\n",
        "fig2=px.bar(p,title='Best Player',orientation='h')\n",
        "\n",
        "fig3=px.bar(df,x='winner',y='win_by_runs',color='win_by_runs',title='Most no. of Wins by runs ',orientation='h')\n",
        "\n",
        "fig4=px.bar(df,x='winner',y='win_by_wickets',color='win_by_wickets',title='Most no. of Wins by Wickets',orientation='h')\n",
        "\n",
        "\n",
        "m1=df[df.winner=='Royal Challengers Bangalore'].value_counts()\n",
        "v1=df['venue'].unique()\n",
        "\n",
        "\n",
        "\n",
        "\n",
        "\n",
        "\n",
        "\n",
        "\n",
        "\n",
        "colors = {\n",
        "   'background': '#4FE377',\n",
        "   'text': '#111111'\n",
        "}\n",
        "\n",
        "\n",
        "app.layout=html.Div(children=[\n",
        "                              html.H1(children='STATIATICS OF IPL',style={'textAlign': 'center','color': colors['text']}),\n",
        "                              html.H2(children='2008 - 2018',style={'textAlign':'center'}),\n",
        "\n",
        "\n",
        "                              html.Br(),\n",
        "\n",
        "                              html.Label('Menu'),\n",
        "                              \n",
        "                              dcc.Dropdown([{'label':'Best team based on Number of Wins','value':'teams'},\n",
        "                                            {'label':'Best Player based on Player of the Match','value':'player'},\n",
        "                                            {'label':'Best team based on Win by Runs','value':'runs'},\n",
        "                                            {'label':'Best Team based on Win by Wickets','value':'wickets'},\n",
        "                                            {'label':'Luckiest Venue for Each Team','value':'venue'},\n",
        "                                            {'label':'Winning probability by Winning Toss','value':'toss'}],\n",
        "                                            value='teams',id='dropdown',\n",
        "                                           style = dict(width = '70%',verticalAlign = \"left\")),\n",
        "                              html.Br(),\n",
        "\n",
        "                              dcc.Slider(min=2008,max=2018,step=1,marks={2008:'2008',2009:'2009',2010:'2010',\n",
        "                                                                         2011:'2011',2012:'2012',2013:'2013',\n",
        "                                                                         2014:'2014',2015:'2015',2016:'2016',\n",
        "                                                                         2017:'2017',2018:'2018'}\n",
        "                                                        , id='my-slider'),\n",
        "                              html.Br(),\n",
        "                              dcc.Graph(\n",
        "                                  id='graph',\n",
        "                                  figure=fig)\n",
        "                              \n",
        "])\n",
        "\n",
        "                              \n",
        "\n",
        "\n",
        "@app.callback(\n",
        "    Output('graph','figure'),\n",
        "    [Input('dropdown','value')]\n",
        ")\n",
        "def update_graph(value):\n",
        "  if value== 'teams':\n",
        "    return fig\n",
        "\n",
        "  elif value=='player':\n",
        "    return fig2\n",
        "\n",
        "  elif value=='runs':\n",
        "    return fig3\n",
        "\n",
        "  elif value=='wickets':\n",
        "    return fig4\n",
        "\n",
        "\n",
        "\n",
        "if __name__==\"__main__\":\n",
        "  app.run_server(debug=True)"
      ],
      "metadata": {
        "colab": {
          "base_uri": "https://localhost:8080/",
          "height": 52
        },
        "id": "elN7MJ7u1elE",
        "outputId": "adbd9073-4a8e-4ef2-a8cf-3234e93e12a0"
      },
      "execution_count": null,
      "outputs": [
        {
          "output_type": "stream",
          "name": "stdout",
          "text": [
            "Dash app running on:\n"
          ]
        },
        {
          "output_type": "display_data",
          "data": {
            "application/javascript": [
              "(async (port, path, text, element) => {\n",
              "    if (!google.colab.kernel.accessAllowed) {\n",
              "      return;\n",
              "    }\n",
              "    element.appendChild(document.createTextNode(''));\n",
              "    const url = await google.colab.kernel.proxyPort(port);\n",
              "    const anchor = document.createElement('a');\n",
              "    anchor.href = new URL(path, url).toString();\n",
              "    anchor.target = '_blank';\n",
              "    anchor.setAttribute('data-href', url + path);\n",
              "    anchor.textContent = text;\n",
              "    element.appendChild(anchor);\n",
              "  })(8050, \"/\", \"http://127.0.0.1:8050/\", window.element)"
            ],
            "text/plain": [
              "<IPython.core.display.Javascript object>"
            ]
          },
          "metadata": {}
        }
      ]
    }
  ]
}