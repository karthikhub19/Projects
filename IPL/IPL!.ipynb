{
  "nbformat": 4,
  "nbformat_minor": 0,
  "metadata": {
    "colab": {
      "name": "IPL!.ipynb",
      "provenance": [],
      "authorship_tag": "ABX9TyMQqpcTSMTeokziij10SKqS",
      "include_colab_link": true
    },
    "kernelspec": {
      "name": "python3",
      "display_name": "Python 3"
    },
    "language_info": {
      "name": "python"
    }
  },
  "cells": [
    {
      "cell_type": "markdown",
      "metadata": {
        "id": "view-in-github",
        "colab_type": "text"
      },
      "source": [
        "<a href=\"https://colab.research.google.com/github/karthikhub19/Projects/blob/main/IPL!.ipynb\" target=\"_parent\"><img src=\"https://colab.research.google.com/assets/colab-badge.svg\" alt=\"Open In Colab\"/></a>"
      ]
    },
    {
      "cell_type": "code",
      "source": [
        "!pip install jupyter-dash -q\n",
        "import pandas as pd\n",
        "import dash\n",
        "import numpy as np\n",
        "from jupyter_dash import JupyterDash\n",
        "import dash_core_components as dcc\n",
        "import dash_html_components as html\n",
        "import plotly.express as px\n",
        "import plotly.graph_objs as go\n",
        "import matplotlib.pyplot as plt\n",
        "import seaborn as sns"
      ],
      "metadata": {
        "colab": {
          "base_uri": "https://localhost:8080/",
          "height": 208
        },
        "id": "w5KAvjoWNwxk",
        "outputId": "143c5b5c-2565-48a0-bf58-af141bae650e"
      },
      "execution_count": 2,
      "outputs": [
        {
          "output_type": "stream",
          "name": "stdout",
          "text": [
            "\u001b[K     |████████████████████████████████| 8.5 MB 6.7 MB/s \n",
            "\u001b[K     |████████████████████████████████| 357 kB 46.0 MB/s \n",
            "\u001b[?25h  Building wheel for retrying (setup.py) ... \u001b[?25l\u001b[?25hdone\n"
          ]
        },
        {
          "output_type": "stream",
          "name": "stderr",
          "text": [
            "/usr/local/lib/python3.7/dist-packages/ipykernel_launcher.py:6: UserWarning: \n",
            "The dash_core_components package is deprecated. Please replace\n",
            "`import dash_core_components as dcc` with `from dash import dcc`\n",
            "  \n",
            "/usr/local/lib/python3.7/dist-packages/ipykernel_launcher.py:7: UserWarning: \n",
            "The dash_html_components package is deprecated. Please replace\n",
            "`import dash_html_components as html` with `from dash import html`\n",
            "  import sys\n"
          ]
        }
      ]
    },
    {
      "cell_type": "code",
      "execution_count": 4,
      "metadata": {
        "colab": {
          "base_uri": "https://localhost:8080/",
          "height": 269
        },
        "id": "SvMe5k_TNVrq",
        "outputId": "3fb60a02-1bd6-4933-fe4a-2c1ee54edda6"
      },
      "outputs": [
        {
          "output_type": "stream",
          "name": "stdout",
          "text": [
            "Dash is running on http://127.0.0.1:8050/\n",
            "\n",
            " * Serving Flask app \"__main__\" (lazy loading)\n",
            " * Environment: production\n",
            "\u001b[31m   WARNING: This is a development server. Do not use it in a production deployment.\u001b[0m\n",
            "\u001b[2m   Use a production WSGI server instead.\u001b[0m\n",
            " * Debug mode: on\n"
          ]
        },
        {
          "output_type": "error",
          "ename": "SystemExit",
          "evalue": "ignored",
          "traceback": [
            "An exception has occurred, use %tb to see the full traceback.\n",
            "\u001b[0;31mSystemExit\u001b[0m\u001b[0;31m:\u001b[0m 1\n"
          ]
        },
        {
          "output_type": "stream",
          "name": "stderr",
          "text": [
            "/usr/local/lib/python3.7/dist-packages/IPython/core/interactiveshell.py:2890: UserWarning: To exit: use 'exit', 'quit', or Ctrl-D.\n",
            "  warn(\"To exit: use 'exit', 'quit', or Ctrl-D.\", stacklevel=1)\n"
          ]
        }
      ],
      "source": [
        "import pandas as pd\n",
        "import numpy as np\n",
        "import plotly.express as px\n",
        "import dash\n",
        "import dash_auth\n",
        "import dash_core_components as dcc\n",
        "import dash_html_components as html\n",
        "from dash.dependencies import Input, Output\n",
        "USERNAME_PASSWORD_PAIRS=[['virat','kohli']]\n",
        "app=dash.Dash(__name__)\n",
        "auth= dash_auth.BasicAuth(app,USERNAME_PASSWORD_PAIRS)\n",
        "server=app.server\n",
        "df = pd.read_csv('https://raw.githubusercontent.com/srinathkr07/IPL-Data-Analysis/master/matches.csv')\n",
        "df=df.drop(columns='id')\n",
        "df=df.fillna(0)\n",
        "mappings={'Rising Pune Supergiant':'Rising Pune Supergiants','Delhi Capitals':'Delhi Daredevils'}\n",
        "df['team1']=df['team1'].replace(mappings)\n",
        "df['team2']=df['team2'].replace(mappings)\n",
        "df['winner']=df['winner'].replace(mappings)\n",
        "df['toss_winner']=df['toss_winner'].replace(mappings)\n",
        "#to create a new column 'Loser' \n",
        "loser=[]\n",
        "for i in range(756):\n",
        "  if (df.iloc[i,3])!=(df.iloc[i,9]):\n",
        "    loser.append(df.iloc[i,3])\n",
        "  elif (df.iloc[i,9])==0:\n",
        "    loser.append(0)\n",
        "  else:\n",
        "    loser.append(df.iloc[i,4])\n",
        "df['Loser']=loser\n",
        "#to find the total matches played by each team over all the seasons\n",
        "total={}\n",
        "count=0\n",
        "for i in df['team1'].unique():\n",
        "  for m in range(756):\n",
        "    if i==df.iloc[m,3]:\n",
        "      count+=1\n",
        "    else:\n",
        "      if i==df.iloc[m,4]:\n",
        "        count+=1\n",
        "  total[i]=count\n",
        "  count=0\n",
        "#to create a new column of total matches played by the winner over all the seasons\n",
        "match=[]\n",
        "for i in df['winner']:\n",
        "  for j,k in total.items():\n",
        "    if i==j:\n",
        "      match.append(k)\n",
        "    elif i==0:\n",
        "      match.append(0)\n",
        "      break\n",
        "df['Total_matches_played_by_winner']=match\n",
        "\n",
        "app.layout=html.Div([html.H1(children='IPL Data Analysis', style={'textAlign': 'center','color': 'darkgrey', 'fontSize': 40,'backgroundColor':'black'}),\n",
        "html.Div([dcc.Dropdown(['Best team based on Number of Wins',\n",
        "                         'Best Player based on Player of the Match',\n",
        "                         'Best team based on Win by Runs',\n",
        "                         'Best Team based on Win by Wickets',\n",
        "                         'Luckiest Venue for Each Team',\n",
        "                         'Winning probability by Winning Toss'],'Best team based on Number of Wins',id='based-on',clearable=False,searchable=False,\n",
        "                            style = dict(\n",
        "                            width = '65%'                           \n",
        "                            ))\n",
        "  ]),html.Br(),\n",
        "  html.Div([dcc.Dropdown(['All Seasons',2008,2009,2010,2011,2012,2013,2014,2015,2016,2017,\n",
        "                         2018,\n",
        "                         2019],'All Seasons',id='year',clearable=False,searchable=False,\n",
        "                            style = dict(width = '30%'))\n",
        "  ]),html.Div([\n",
        "  dcc.Graph(\n",
        "       id='example-graph-1',\n",
        "      )\n",
        "  ])\n",
        "])\n",
        "@app.callback(\n",
        "    Output('example-graph-1','figure'),\n",
        "    [Input('based-on','value')],[Input('year','value')])\n",
        "def update_graph(bvalue,yvalue):\n",
        "  if bvalue== 'Best team based on Number of Wins':\n",
        "    if yvalue=='All Seasons':\n",
        "      pie=px.pie(data_frame=df,names='winner',title='Best team based on Number of Wins',hole=0.2,hover_data=['Total_matches_played_by_winner'])\n",
        "      pie.update_traces(textinfo=\"label+value\",textposition='inside')\n",
        "      return pie\n",
        "    else:\n",
        "      df1 = df[df['season'] == yvalue]\n",
        "      pie=px.pie(data_frame=df1,names='winner',title='Best team based on Number of Wins',hole=0.2)\n",
        "      pie.update_traces(textinfo=\"label+value\",textposition='inside')\n",
        "      return pie\n",
        "\n",
        "  elif bvalue== 'Best Player based on Player of the Match':\n",
        "    if yvalue=='All Seasons':\n",
        "      bar=px.bar(df,x='player_of_match',color='player_of_match',title='Best Player based on Player of the Match')\n",
        "      bar.update_layout(xaxis={'categoryorder':'total descending'})\n",
        "      return bar\n",
        "    else:\n",
        "      df1 = df[df['season'] == yvalue]\n",
        "      bar=px.bar(df1,x='player_of_match',color='player_of_match',title='Best Player based on Player of the Match')\n",
        "      bar.update_layout(xaxis={'categoryorder':'total descending'})\n",
        "      return bar\n",
        "\n",
        "  elif bvalue== 'Best team based on Win by Runs':\n",
        "    if yvalue=='All Seasons':\n",
        "      scat=px.scatter_3d(df,x='winner',y='Loser',z='win_by_runs',color='win_by_runs',size='win_by_runs',title='Best team based on Win by Runs')\n",
        "      return scat\n",
        "    else:  \n",
        "      df1 = df[df['season'] == yvalue]\n",
        "      scat=px.scatter_3d(df1,x='winner',y='Loser',z='win_by_runs',color='win_by_runs',size='win_by_runs',title='Best team based on Win by Runs')\n",
        "      return scat\n",
        "\n",
        "  elif bvalue== 'Best Team based on Win by Wickets':\n",
        "    if yvalue=='All Seasons':\n",
        "      df1=df.query(\"win_by_wickets>0\")\n",
        "      sun1= px.sunburst(df1, path=['winner', 'win_by_wickets'],title='Best Team based on Win by Wickets')\n",
        "      sun1.update_layout(margin = dict(t=100, l=25, r=25, b=25))\n",
        "      sun1.update_traces(textinfo=\"label+value\",maxdepth=1)\n",
        "      return sun1\n",
        "    else:\n",
        "      df1 = df[(df['season'] == yvalue) & (df[\"win_by_wickets\"]>0)]\n",
        "      sun1= px.sunburst(df1, path=['winner', 'win_by_wickets'],title='Best Team based on Win by Wickets')\n",
        "      sun1.update_layout(margin = dict(t=100, l=25, r=25, b=25))\n",
        "      sun1.update_traces(textinfo=\"label+value\",maxdepth=1)\n",
        "      return sun1\n",
        "\n",
        "  elif bvalue== 'Luckiest Venue for Each Team':\n",
        "    if yvalue=='All Seasons':\n",
        "      fig=px.bar(df,x='venue',color='winner',title='Luckiest Venue for Each Team',animation_frame='winner',barmode='relative')\n",
        "      fig.update_layout(margin=dict(l=100, r=20, t=100, b=200),paper_bgcolor=\"beige\",title={'y':0.9,'x':0.5,'xanchor': 'center','yanchor': 'top'})\n",
        "      fig['layout']['updatemenus'][0]['pad']=dict(r= 10, t= 150)\n",
        "      fig['layout']['sliders'][0]['pad']=dict(r= 20, t= 200,)\n",
        "      return fig\n",
        "    else:\n",
        "      df1 = df[df['season'] == yvalue]\n",
        "      fig=px.bar(df1,x='venue',color='winner',title='Luckiest Venue for Each Team',animation_frame='winner',barmode='relative')\n",
        "      fig.update_layout(margin=dict(l=100, r=20, t=100, b=200),paper_bgcolor=\"beige\",title={'y':0.9,'x':0.5,'xanchor': 'center','yanchor': 'top'})\n",
        "      fig['layout']['updatemenus'][0]['pad']=dict(r= 10, t= 150)\n",
        "      fig['layout']['sliders'][0]['pad']=dict(r= 20, t= 200,)\n",
        "      return fig\n",
        "\n",
        "  elif bvalue== 'Winning probability by Winning Toss':\n",
        "    if yvalue=='All Seasons':\n",
        "      sun= px.sunburst(df, path=['toss_winner', 'winner'],title='Winning probability by Winning Toss')\n",
        "      sun.update_layout(margin = dict(t=100, l=25, r=25, b=25))\n",
        "      sun.update_traces(textinfo=\"label+percent parent+value\")\n",
        "      return sun\n",
        "    else:\n",
        "      df1 = df[df['season'] == yvalue]\n",
        "      sun= px.sunburst(df1, path=['toss_winner', 'winner'],title='Winning probability by Winning Toss')\n",
        "      sun.update_layout(margin = dict(t=100, l=25, r=25, b=25))\n",
        "      sun.update_traces(textinfo=\"label+percent parent+value\")\n",
        "      return sun\n",
        "\n",
        "if __name__ == '__main__':\n",
        "   app.run_server(debug=True)"
      ]
    }
  ]
}
